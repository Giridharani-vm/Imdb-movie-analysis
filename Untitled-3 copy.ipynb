{
 "cells": [
  {
   "cell_type": "markdown",
   "metadata": {},
   "source": [
    "#File Opening"
   ]
  },
  {
   "cell_type": "code",
   "execution_count": 31,
   "metadata": {},
   "outputs": [
    {
     "name": "stdout",
     "output_type": "stream",
     "text": [
      "<class 'pandas.core.frame.DataFrame'>\n",
      "RangeIndex: 527 entries, 0 to 526\n",
      "Data columns (total 5 columns):\n",
      " #   Column    Non-Null Count  Dtype \n",
      "---  ------    --------------  ----- \n",
      " 0   Title     527 non-null    object\n",
      " 1   Rating    527 non-null    object\n",
      " 2   Votes     527 non-null    object\n",
      " 3   Duration  527 non-null    object\n",
      " 4   Genre     527 non-null    object\n",
      "dtypes: object(5)\n",
      "memory usage: 20.7+ KB\n",
      "None\n"
     ]
    },
    {
     "data": {
      "text/plain": [
       "(527, 5)"
      ]
     },
     "execution_count": 31,
     "metadata": {},
     "output_type": "execute_result"
    }
   ],
   "source": [
    "import pandas as pd\n",
    "bio = pd.read_csv(r\"C:\\Users\\123\\Music\\imdb_fantasy.csv\")\n",
    "print(bio.info())\n",
    "bio.shape\n"
   ]
  },
  {
   "cell_type": "markdown",
   "metadata": {},
   "source": [
    "To find number of not available"
   ]
  },
  {
   "cell_type": "code",
   "execution_count": 32,
   "metadata": {},
   "outputs": [
    {
     "name": "stdout",
     "output_type": "stream",
     "text": [
      "Title         0\n",
      "Rating      186\n",
      "Votes       186\n",
      "Duration    115\n",
      "Genre         0\n",
      "dtype: int64\n"
     ]
    }
   ],
   "source": [
    "print(bio.apply(lambda col: col.str.contains('Not Available', case=False, na=False).sum()))"
   ]
  },
  {
   "cell_type": "markdown",
   "metadata": {},
   "source": [
    "Find and deleting the common NaN types"
   ]
  },
  {
   "cell_type": "code",
   "execution_count": 33,
   "metadata": {},
   "outputs": [
    {
     "data": {
      "text/plain": [
       "88"
      ]
     },
     "execution_count": 33,
     "metadata": {},
     "output_type": "execute_result"
    }
   ],
   "source": [
    "bio[(bio[\"Votes\"]==\"Not Available\") & (bio[\"Duration\"]==\"Not Available\")].shape[0]"
   ]
  },
  {
   "cell_type": "code",
   "execution_count": 34,
   "metadata": {},
   "outputs": [
    {
     "data": {
      "text/plain": [
       "439"
      ]
     },
     "execution_count": 34,
     "metadata": {},
     "output_type": "execute_result"
    }
   ],
   "source": [
    "bio.drop(bio[(bio[\"Votes\"]==\"Not Available\") & (bio[\"Duration\"]==\"Not Available\")].index,inplace=True)\n",
    "bio.shape[0]"
   ]
  },
  {
   "cell_type": "code",
   "execution_count": 35,
   "metadata": {},
   "outputs": [
    {
     "name": "stdout",
     "output_type": "stream",
     "text": [
      "439\n"
     ]
    }
   ],
   "source": [
    "bio = bio.reset_index(drop = True)\n",
    "print(len(bio))"
   ]
  },
  {
   "cell_type": "markdown",
   "metadata": {},
   "source": [
    "Not availabe to 0 value"
   ]
  },
  {
   "cell_type": "code",
   "execution_count": 36,
   "metadata": {},
   "outputs": [],
   "source": [
    "bio['Rating'] = bio['Rating'].str.replace('Not Available','0',regex = False)\n",
    "bio['Votes'] = bio['Votes'].str.replace('Not Available','0',regex = False)\n",
    "bio['Duration'] = bio['Duration'].str.replace('Not Available','0',regex = False)"
   ]
  },
  {
   "cell_type": "code",
   "execution_count": 37,
   "metadata": {},
   "outputs": [
    {
     "data": {
      "text/plain": [
       "439"
      ]
     },
     "execution_count": 37,
     "metadata": {},
     "output_type": "execute_result"
    }
   ],
   "source": [
    "bio.shape[0]"
   ]
  },
  {
   "cell_type": "markdown",
   "metadata": {},
   "source": [
    "Cleaning - Votes (str, decimal assignment)"
   ]
  },
  {
   "cell_type": "code",
   "execution_count": 38,
   "metadata": {},
   "outputs": [],
   "source": [
    "bio['Votes'] = bio['Votes'].astype(str).str.replace('(','',regex = False)\n",
    "bio['Votes'] = bio['Votes'].astype(str).str.replace(')','',regex = False)\n",
    "bio['Votes'] = bio['Votes'].astype(str).str.replace('K','000',regex = False)"
   ]
  },
  {
   "cell_type": "code",
   "execution_count": 39,
   "metadata": {},
   "outputs": [
    {
     "name": "stdout",
     "output_type": "stream",
     "text": [
      "                                                Title Rating    Votes  \\\n",
      "0                                          1. Moana 2    6.7    87000   \n",
      "1                                             2. Flow    7.9    58000   \n",
      "2                                        3. Nosferatu    7.3   178000   \n",
      "3                                           4. Wicked    7.5   141000   \n",
      "4                             5. Sonic the Hedgehog 3    6.9    52000   \n",
      "..                                                ...    ...      ...   \n",
      "434  519. Incident at Panther Hills: Bigfoot's Return      0        0   \n",
      "435                                521. Steve's World      0        0   \n",
      "436                                 522. A Grey Night      0        0   \n",
      "437                          525. NJPW SMP: The Movie      0        0   \n",
      "438                           527. Legend of the Dead      0        0   \n",
      "\n",
      "    Duration    Genre  \n",
      "0     1h 40m  Fantasy  \n",
      "1     1h 25m  Fantasy  \n",
      "2     2h 12m  Fantasy  \n",
      "3     2h 40m  Fantasy  \n",
      "4     1h 50m  Fantasy  \n",
      "..       ...      ...  \n",
      "434      58m  Fantasy  \n",
      "435      55m  Fantasy  \n",
      "436      56m  Fantasy  \n",
      "437      50m  Fantasy  \n",
      "438   1h 14m  Fantasy  \n",
      "\n",
      "[439 rows x 5 columns]\n"
     ]
    }
   ],
   "source": [
    "def shift_decimal(x):\n",
    "    if '.' in x:\n",
    "        return str(float(x) * 1000).rstrip('0').rstrip('.')  # Remove trailing zeros\n",
    "    return x\n",
    "\n",
    "# Apply the function\n",
    "bio['Votes'] = bio['Votes'].astype(str).apply(shift_decimal)\n",
    "\n",
    "print(bio)\n"
   ]
  },
  {
   "cell_type": "markdown",
   "metadata": {},
   "source": [
    "Duration to minutes"
   ]
  },
  {
   "cell_type": "code",
   "execution_count": 40,
   "metadata": {},
   "outputs": [
    {
     "name": "stdout",
     "output_type": "stream",
     "text": [
      "0      100.0\n",
      "1       85.0\n",
      "2      132.0\n",
      "3      160.0\n",
      "4      110.0\n",
      "       ...  \n",
      "434     58.0\n",
      "435     55.0\n",
      "436     56.0\n",
      "437     50.0\n",
      "438     74.0\n",
      "Name: Duration, Length: 439, dtype: float64\n"
     ]
    },
    {
     "name": "stderr",
     "output_type": "stream",
     "text": [
      "C:\\Users\\123\\AppData\\Local\\Temp\\ipykernel_17740\\786350388.py:3: FutureWarning: A value is trying to be set on a copy of a DataFrame or Series through chained assignment using an inplace method.\n",
      "The behavior will change in pandas 3.0. This inplace method will never work because the intermediate object on which we are setting values always behaves as a copy.\n",
      "\n",
      "For example, when doing 'df[col].method(value, inplace=True)', try using 'df.method({col: value}, inplace=True)' or df[col] = df[col].method(value) instead, to perform the operation inplace on the original object.\n",
      "\n",
      "\n",
      "  bio['Duration'].fillna(0, inplace=True)\n"
     ]
    }
   ],
   "source": [
    "bio['Duration'] = bio['Duration'].astype(str).fillna('0h 0m')\n",
    "bio['Duration'] = pd.to_timedelta(bio['Duration'].str.replace('h', ' hours ').str.replace('m', ' minutes'), errors='coerce').dt.total_seconds() / 60\n",
    "bio['Duration'].fillna(0, inplace=True)\n",
    "print(bio['Duration'])"
   ]
  },
  {
   "cell_type": "code",
   "execution_count": 41,
   "metadata": {},
   "outputs": [
    {
     "name": "stdout",
     "output_type": "stream",
     "text": [
      "<class 'pandas.core.series.Series'>\n",
      "RangeIndex: 439 entries, 0 to 438\n",
      "Series name: Duration\n",
      "Non-Null Count  Dtype  \n",
      "--------------  -----  \n",
      "439 non-null    float64\n",
      "dtypes: float64(1)\n",
      "memory usage: 3.6 KB\n"
     ]
    }
   ],
   "source": [
    "bio[\"Duration\"].info()"
   ]
  },
  {
   "cell_type": "markdown",
   "metadata": {},
   "source": [
    "Removing serial number in title"
   ]
  },
  {
   "cell_type": "code",
   "execution_count": 42,
   "metadata": {},
   "outputs": [],
   "source": [
    "bio['Title'] = bio['Title'].str.replace(r'^\\d+\\.\\s*', '', regex=True)"
   ]
  },
  {
   "cell_type": "code",
   "execution_count": 43,
   "metadata": {},
   "outputs": [
    {
     "data": {
      "text/plain": [
       "0                                          Moana 2\n",
       "1                                             Flow\n",
       "2                                        Nosferatu\n",
       "3                                           Wicked\n",
       "4                             Sonic the Hedgehog 3\n",
       "                          ...                     \n",
       "434    Incident at Panther Hills: Bigfoot's Return\n",
       "435                                  Steve's World\n",
       "436                                   A Grey Night\n",
       "437                            NJPW SMP: The Movie\n",
       "438                             Legend of the Dead\n",
       "Name: Title, Length: 439, dtype: object"
      ]
     },
     "metadata": {},
     "output_type": "display_data"
    }
   ],
   "source": [
    "display(bio[\"Title\"])"
   ]
  },
  {
   "cell_type": "markdown",
   "metadata": {},
   "source": [
    "\n",
    "Converting NaN type to zero"
   ]
  },
  {
   "cell_type": "code",
   "execution_count": 44,
   "metadata": {},
   "outputs": [
    {
     "data": {
      "text/html": [
       "<div>\n",
       "<style scoped>\n",
       "    .dataframe tbody tr th:only-of-type {\n",
       "        vertical-align: middle;\n",
       "    }\n",
       "\n",
       "    .dataframe tbody tr th {\n",
       "        vertical-align: top;\n",
       "    }\n",
       "\n",
       "    .dataframe thead th {\n",
       "        text-align: right;\n",
       "    }\n",
       "</style>\n",
       "<table border=\"1\" class=\"dataframe\">\n",
       "  <thead>\n",
       "    <tr style=\"text-align: right;\">\n",
       "      <th></th>\n",
       "      <th>Title</th>\n",
       "      <th>Rating</th>\n",
       "      <th>Votes</th>\n",
       "      <th>Duration</th>\n",
       "      <th>Genre</th>\n",
       "    </tr>\n",
       "  </thead>\n",
       "  <tbody>\n",
       "    <tr>\n",
       "      <th>0</th>\n",
       "      <td>Moana 2</td>\n",
       "      <td>6.7</td>\n",
       "      <td>87000</td>\n",
       "      <td>100.0</td>\n",
       "      <td>Fantasy</td>\n",
       "    </tr>\n",
       "    <tr>\n",
       "      <th>1</th>\n",
       "      <td>Flow</td>\n",
       "      <td>7.9</td>\n",
       "      <td>58000</td>\n",
       "      <td>85.0</td>\n",
       "      <td>Fantasy</td>\n",
       "    </tr>\n",
       "    <tr>\n",
       "      <th>2</th>\n",
       "      <td>Nosferatu</td>\n",
       "      <td>7.3</td>\n",
       "      <td>178000</td>\n",
       "      <td>132.0</td>\n",
       "      <td>Fantasy</td>\n",
       "    </tr>\n",
       "    <tr>\n",
       "      <th>3</th>\n",
       "      <td>Wicked</td>\n",
       "      <td>7.5</td>\n",
       "      <td>141000</td>\n",
       "      <td>160.0</td>\n",
       "      <td>Fantasy</td>\n",
       "    </tr>\n",
       "    <tr>\n",
       "      <th>4</th>\n",
       "      <td>Sonic the Hedgehog 3</td>\n",
       "      <td>6.9</td>\n",
       "      <td>52000</td>\n",
       "      <td>110.0</td>\n",
       "      <td>Fantasy</td>\n",
       "    </tr>\n",
       "    <tr>\n",
       "      <th>...</th>\n",
       "      <td>...</td>\n",
       "      <td>...</td>\n",
       "      <td>...</td>\n",
       "      <td>...</td>\n",
       "      <td>...</td>\n",
       "    </tr>\n",
       "    <tr>\n",
       "      <th>434</th>\n",
       "      <td>Incident at Panther Hills: Bigfoot's Return</td>\n",
       "      <td>0</td>\n",
       "      <td>0</td>\n",
       "      <td>58.0</td>\n",
       "      <td>Fantasy</td>\n",
       "    </tr>\n",
       "    <tr>\n",
       "      <th>435</th>\n",
       "      <td>Steve's World</td>\n",
       "      <td>0</td>\n",
       "      <td>0</td>\n",
       "      <td>55.0</td>\n",
       "      <td>Fantasy</td>\n",
       "    </tr>\n",
       "    <tr>\n",
       "      <th>436</th>\n",
       "      <td>A Grey Night</td>\n",
       "      <td>0</td>\n",
       "      <td>0</td>\n",
       "      <td>56.0</td>\n",
       "      <td>Fantasy</td>\n",
       "    </tr>\n",
       "    <tr>\n",
       "      <th>437</th>\n",
       "      <td>NJPW SMP: The Movie</td>\n",
       "      <td>0</td>\n",
       "      <td>0</td>\n",
       "      <td>50.0</td>\n",
       "      <td>Fantasy</td>\n",
       "    </tr>\n",
       "    <tr>\n",
       "      <th>438</th>\n",
       "      <td>Legend of the Dead</td>\n",
       "      <td>0</td>\n",
       "      <td>0</td>\n",
       "      <td>74.0</td>\n",
       "      <td>Fantasy</td>\n",
       "    </tr>\n",
       "  </tbody>\n",
       "</table>\n",
       "<p>439 rows × 5 columns</p>\n",
       "</div>"
      ],
      "text/plain": [
       "                                           Title Rating    Votes  Duration  \\\n",
       "0                                        Moana 2    6.7    87000     100.0   \n",
       "1                                           Flow    7.9    58000      85.0   \n",
       "2                                      Nosferatu    7.3   178000     132.0   \n",
       "3                                         Wicked    7.5   141000     160.0   \n",
       "4                           Sonic the Hedgehog 3    6.9    52000     110.0   \n",
       "..                                           ...    ...      ...       ...   \n",
       "434  Incident at Panther Hills: Bigfoot's Return      0        0      58.0   \n",
       "435                                Steve's World      0        0      55.0   \n",
       "436                                 A Grey Night      0        0      56.0   \n",
       "437                          NJPW SMP: The Movie      0        0      50.0   \n",
       "438                           Legend of the Dead      0        0      74.0   \n",
       "\n",
       "       Genre  \n",
       "0    Fantasy  \n",
       "1    Fantasy  \n",
       "2    Fantasy  \n",
       "3    Fantasy  \n",
       "4    Fantasy  \n",
       "..       ...  \n",
       "434  Fantasy  \n",
       "435  Fantasy  \n",
       "436  Fantasy  \n",
       "437  Fantasy  \n",
       "438  Fantasy  \n",
       "\n",
       "[439 rows x 5 columns]"
      ]
     },
     "metadata": {},
     "output_type": "display_data"
    }
   ],
   "source": [
    "bio.fillna(0,inplace=True)\n",
    "display(bio)"
   ]
  },
  {
   "cell_type": "code",
   "execution_count": 45,
   "metadata": {},
   "outputs": [
    {
     "name": "stdout",
     "output_type": "stream",
     "text": [
      "<class 'pandas.core.frame.DataFrame'>\n",
      "RangeIndex: 439 entries, 0 to 438\n",
      "Data columns (total 5 columns):\n",
      " #   Column    Non-Null Count  Dtype  \n",
      "---  ------    --------------  -----  \n",
      " 0   Title     439 non-null    object \n",
      " 1   Rating    439 non-null    object \n",
      " 2   Votes     439 non-null    object \n",
      " 3   Duration  439 non-null    float64\n",
      " 4   Genre     439 non-null    object \n",
      "dtypes: float64(1), object(4)\n",
      "memory usage: 17.3+ KB\n"
     ]
    }
   ],
   "source": [
    "bio.info()"
   ]
  },
  {
   "cell_type": "markdown",
   "metadata": {},
   "source": [
    "Changing the datatype"
   ]
  },
  {
   "cell_type": "code",
   "execution_count": 46,
   "metadata": {},
   "outputs": [],
   "source": [
    "bio[\"Title\"] = bio[\"Title\"].astype(str)\n",
    "bio[\"Rating\"] = bio[\"Rating\"].astype(float)\n",
    "bio[\"Votes\"] = bio[\"Votes\"].astype(int)\n",
    "bio[\"Genre\"] = bio[\"Genre\"].astype(str)"
   ]
  },
  {
   "cell_type": "markdown",
   "metadata": {},
   "source": [
    "to csv"
   ]
  },
  {
   "cell_type": "code",
   "execution_count": 53,
   "metadata": {},
   "outputs": [],
   "source": [
    "bio.to_csv(\"imdb_Fantasy(C)\",index = False)"
   ]
  },
  {
   "cell_type": "markdown",
   "metadata": {},
   "source": [
    "TO SQL"
   ]
  },
  {
   "cell_type": "markdown",
   "metadata": {},
   "source": [
    "see the number of table in .db"
   ]
  },
  {
   "cell_type": "code",
   "execution_count": 51,
   "metadata": {},
   "outputs": [
    {
     "name": "stdout",
     "output_type": "stream",
     "text": [
      "Tables in the database: [('imdb_biography(C)',), ('imdb_adventure(C)',), ('imdb_Fantasy(C)',)]\n"
     ]
    }
   ],
   "source": [
    "import sqlite3\n",
    "\n",
    "conn = sqlite3.connect('imdb_SQL.db')\n",
    "cursor = conn.cursor()\n",
    "\n",
    "cursor.execute(\"SELECT name FROM sqlite_master WHERE type='table';\")\n",
    "tables = cursor.fetchall()\n",
    "\n",
    "print(\"Tables in the database:\", tables)\n",
    "\n",
    "conn.close()"
   ]
  },
  {
   "cell_type": "code",
   "execution_count": 50,
   "metadata": {},
   "outputs": [
    {
     "name": "stdout",
     "output_type": "stream",
     "text": [
      "uploaded\n"
     ]
    }
   ],
   "source": [
    "import sqlite3\n",
    "conn = sqlite3.connect('imdb_SQL.db')\n",
    "cursor = conn.cursor()\n",
    "\n",
    "bio.to_sql('imdb_Fantasy(C)', conn, if_exists='replace', index=False)\n",
    "\n",
    "print(\"uploaded\")\n"
   ]
  },
  {
   "cell_type": "code",
   "execution_count": 56,
   "metadata": {},
   "outputs": [
    {
     "name": "stdout",
     "output_type": "stream",
     "text": [
      "CSV uploaded to SQL successfully!\n"
     ]
    }
   ],
   "source": [
    "# Read the CSV into a DataFrame\n",
    "df = pd.read_csv(r\"C:\\Users\\123\\Music\\imdb_adventure(C).csv\")\n",
    "\n",
    "# Upload the data to SQL\n",
    "df.to_sql('imdb_adventure(C)', conn, if_exists='replace', index=False)\n",
    "\n",
    "print(\"CSV uploaded to SQL successfully!\")"
   ]
  },
  {
   "cell_type": "code",
   "execution_count": 52,
   "metadata": {},
   "outputs": [],
   "source": [
    "conn.commit\n",
    "conn.close()"
   ]
  }
 ],
 "metadata": {
  "kernelspec": {
   "display_name": "imdb_venv",
   "language": "python",
   "name": "python3"
  },
  "language_info": {
   "codemirror_mode": {
    "name": "ipython",
    "version": 3
   },
   "file_extension": ".py",
   "mimetype": "text/x-python",
   "name": "python",
   "nbconvert_exporter": "python",
   "pygments_lexer": "ipython3",
   "version": "3.12.8"
  }
 },
 "nbformat": 4,
 "nbformat_minor": 2
}
