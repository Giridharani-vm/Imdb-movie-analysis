{
 "cells": [
  {
   "cell_type": "markdown",
   "metadata": {},
   "source": [
    "#File Opening"
   ]
  },
  {
   "cell_type": "code",
   "execution_count": 21,
   "metadata": {},
   "outputs": [
    {
     "name": "stdout",
     "output_type": "stream",
     "text": [
      "<class 'pandas.core.frame.DataFrame'>\n",
      "RangeIndex: 602 entries, 0 to 601\n",
      "Data columns (total 5 columns):\n",
      " #   Column    Non-Null Count  Dtype \n",
      "---  ------    --------------  ----- \n",
      " 0   Title     602 non-null    object\n",
      " 1   Rating    602 non-null    object\n",
      " 2   Votes     602 non-null    object\n",
      " 3   Duration  602 non-null    object\n",
      " 4   Genre     602 non-null    object\n",
      "dtypes: object(5)\n",
      "memory usage: 23.6+ KB\n",
      "None\n"
     ]
    },
    {
     "data": {
      "text/plain": [
       "(602, 5)"
      ]
     },
     "execution_count": 21,
     "metadata": {},
     "output_type": "execute_result"
    }
   ],
   "source": [
    "import pandas as pd\n",
    "sci = pd.read_csv(r\"C:\\Users\\123\\Music\\imdb_Scifi.csv\")\n",
    "print(sci.info())\n",
    "sci.shape\n"
   ]
  },
  {
   "cell_type": "markdown",
   "metadata": {},
   "source": [
    "To find number of not available"
   ]
  },
  {
   "cell_type": "code",
   "execution_count": null,
   "metadata": {},
   "outputs": [],
   "source": [
    "print(sci.apply(lambda col: col.str.contains('Not Available', case=False, na=False).sum()))"
   ]
  },
  {
   "cell_type": "markdown",
   "metadata": {},
   "source": [
    "Find and deleting the common NaN types"
   ]
  },
  {
   "cell_type": "code",
   "execution_count": 23,
   "metadata": {},
   "outputs": [
    {
     "data": {
      "text/plain": [
       "82"
      ]
     },
     "execution_count": 23,
     "metadata": {},
     "output_type": "execute_result"
    }
   ],
   "source": [
    "sci[(sci[\"Votes\"]==\"Not Available\") & (sci[\"Duration\"]==\"Not Available\")].shape[0]"
   ]
  },
  {
   "cell_type": "code",
   "execution_count": 24,
   "metadata": {},
   "outputs": [
    {
     "data": {
      "text/plain": [
       "520"
      ]
     },
     "execution_count": 24,
     "metadata": {},
     "output_type": "execute_result"
    }
   ],
   "source": [
    "sci.drop(sci[(sci[\"Votes\"]==\"Not Available\") & (sci[\"Duration\"]==\"Not Available\")].index,inplace=True)\n",
    "sci.shape[0]"
   ]
  },
  {
   "cell_type": "code",
   "execution_count": 25,
   "metadata": {},
   "outputs": [
    {
     "name": "stdout",
     "output_type": "stream",
     "text": [
      "520\n"
     ]
    }
   ],
   "source": [
    "sci = sci.reset_index(drop = True)\n",
    "print(len(sci))"
   ]
  },
  {
   "cell_type": "markdown",
   "metadata": {},
   "source": [
    "Not availabe to 0 value"
   ]
  },
  {
   "cell_type": "code",
   "execution_count": 26,
   "metadata": {},
   "outputs": [],
   "source": [
    "sci['Rating'] = sci['Rating'].str.replace('Not Available','0',regex = False)\n",
    "sci['Votes'] = sci['Votes'].str.replace('Not Available','0',regex = False)\n",
    "sci['Duration'] = sci['Duration'].str.replace('Not Available','0',regex = False)"
   ]
  },
  {
   "cell_type": "code",
   "execution_count": 27,
   "metadata": {},
   "outputs": [
    {
     "data": {
      "text/plain": [
       "520"
      ]
     },
     "execution_count": 27,
     "metadata": {},
     "output_type": "execute_result"
    }
   ],
   "source": [
    "sci.shape[0]"
   ]
  },
  {
   "cell_type": "markdown",
   "metadata": {},
   "source": [
    "Cleaning - Votes (str, decimal assignment)"
   ]
  },
  {
   "cell_type": "code",
   "execution_count": 28,
   "metadata": {},
   "outputs": [],
   "source": [
    "sci['Votes'] = sci['Votes'].astype(str).str.replace('(','',regex = False)\n",
    "sci['Votes'] = sci['Votes'].astype(str).str.replace(')','',regex = False)\n",
    "sci['Votes'] = sci['Votes'].astype(str).str.replace('K','000',regex = False)"
   ]
  },
  {
   "cell_type": "code",
   "execution_count": 29,
   "metadata": {},
   "outputs": [
    {
     "name": "stdout",
     "output_type": "stream",
     "text": [
      "                        Title Rating    Votes Duration            Genre\n",
      "0            1. The Substance    7.3   279000   2h 21m  Science fiction\n",
      "1     2. Sonic the Hedgehog 3    6.9    52000   1h 50m  Science fiction\n",
      "2    3. Venom: The Last Dance    6.0   107000   1h 50m  Science fiction\n",
      "3           4. The Wild Robot    8.2   152000   1h 42m  Science fiction\n",
      "4           5. Dune: Part Two    8.5   612000   2h 46m  Science fiction\n",
      "..                        ...    ...      ...      ...              ...\n",
      "515              595. Worship      0        0   1h 15m  Science fiction\n",
      "516            597. Parhelion      0        0   1h 30m  Science fiction\n",
      "517              598. Plastic      0        0    1h 2m  Science fiction\n",
      "518           601. Recall 126      0        0      53m  Science fiction\n",
      "519         602. the time arc      0        0   1h 18m  Science fiction\n",
      "\n",
      "[520 rows x 5 columns]\n"
     ]
    }
   ],
   "source": [
    "def shift_decimal(x):\n",
    "    if '.' in x:\n",
    "        return str(float(x) * 1000).rstrip('0').rstrip('.')  # Remove trailing zeros\n",
    "    return x\n",
    "\n",
    "# Apply the function\n",
    "sci['Votes'] = sci['Votes'].astype(str).apply(shift_decimal)\n",
    "\n",
    "print(sci)\n"
   ]
  },
  {
   "cell_type": "markdown",
   "metadata": {},
   "source": [
    "Duration to minutes"
   ]
  },
  {
   "cell_type": "code",
   "execution_count": 30,
   "metadata": {},
   "outputs": [
    {
     "name": "stdout",
     "output_type": "stream",
     "text": [
      "0      141.0\n",
      "1      110.0\n",
      "2      110.0\n",
      "3      102.0\n",
      "4      166.0\n",
      "       ...  \n",
      "515     75.0\n",
      "516     90.0\n",
      "517     62.0\n",
      "518     53.0\n",
      "519     78.0\n",
      "Name: Duration, Length: 520, dtype: float64\n"
     ]
    },
    {
     "name": "stderr",
     "output_type": "stream",
     "text": [
      "C:\\Users\\123\\AppData\\Local\\Temp\\ipykernel_6468\\3930175918.py:3: FutureWarning: A value is trying to be set on a copy of a DataFrame or Series through chained assignment using an inplace method.\n",
      "The behavior will change in pandas 3.0. This inplace method will never work because the intermediate object on which we are setting values always behaves as a copy.\n",
      "\n",
      "For example, when doing 'df[col].method(value, inplace=True)', try using 'df.method({col: value}, inplace=True)' or df[col] = df[col].method(value) instead, to perform the operation inplace on the original object.\n",
      "\n",
      "\n",
      "  sci['Duration'].fillna(0, inplace=True)\n"
     ]
    }
   ],
   "source": [
    "sci['Duration'] = sci['Duration'].astype(str).fillna('0h 0m')\n",
    "sci['Duration'] = pd.to_timedelta(sci['Duration'].str.replace('h', ' hours ').str.replace('m', ' minutes'), errors='coerce').dt.total_seconds() / 60\n",
    "sci['Duration'].fillna(0, inplace=True)\n",
    "print(sci['Duration'])"
   ]
  },
  {
   "cell_type": "code",
   "execution_count": 31,
   "metadata": {},
   "outputs": [
    {
     "name": "stdout",
     "output_type": "stream",
     "text": [
      "<class 'pandas.core.series.Series'>\n",
      "RangeIndex: 520 entries, 0 to 519\n",
      "Series name: Duration\n",
      "Non-Null Count  Dtype  \n",
      "--------------  -----  \n",
      "520 non-null    float64\n",
      "dtypes: float64(1)\n",
      "memory usage: 4.2 KB\n"
     ]
    }
   ],
   "source": [
    "sci[\"Duration\"].info()"
   ]
  },
  {
   "cell_type": "markdown",
   "metadata": {},
   "source": [
    "Removing serial number in title"
   ]
  },
  {
   "cell_type": "code",
   "execution_count": 32,
   "metadata": {},
   "outputs": [],
   "source": [
    "sci['Title'] = sci['Title'].str.replace(r'^\\d+\\.\\s*', '', regex=True)"
   ]
  },
  {
   "cell_type": "code",
   "execution_count": 33,
   "metadata": {},
   "outputs": [
    {
     "data": {
      "text/plain": [
       "0              The Substance\n",
       "1       Sonic the Hedgehog 3\n",
       "2      Venom: The Last Dance\n",
       "3             The Wild Robot\n",
       "4             Dune: Part Two\n",
       "               ...          \n",
       "515                  Worship\n",
       "516                Parhelion\n",
       "517                  Plastic\n",
       "518               Recall 126\n",
       "519             the time arc\n",
       "Name: Title, Length: 520, dtype: object"
      ]
     },
     "metadata": {},
     "output_type": "display_data"
    }
   ],
   "source": [
    "display(sci[\"Title\"])"
   ]
  },
  {
   "cell_type": "markdown",
   "metadata": {},
   "source": [
    "\n",
    "Converting NaN type to zero"
   ]
  },
  {
   "cell_type": "code",
   "execution_count": 34,
   "metadata": {},
   "outputs": [
    {
     "data": {
      "text/html": [
       "<div>\n",
       "<style scoped>\n",
       "    .dataframe tbody tr th:only-of-type {\n",
       "        vertical-align: middle;\n",
       "    }\n",
       "\n",
       "    .dataframe tbody tr th {\n",
       "        vertical-align: top;\n",
       "    }\n",
       "\n",
       "    .dataframe thead th {\n",
       "        text-align: right;\n",
       "    }\n",
       "</style>\n",
       "<table border=\"1\" class=\"dataframe\">\n",
       "  <thead>\n",
       "    <tr style=\"text-align: right;\">\n",
       "      <th></th>\n",
       "      <th>Title</th>\n",
       "      <th>Rating</th>\n",
       "      <th>Votes</th>\n",
       "      <th>Duration</th>\n",
       "      <th>Genre</th>\n",
       "    </tr>\n",
       "  </thead>\n",
       "  <tbody>\n",
       "    <tr>\n",
       "      <th>0</th>\n",
       "      <td>The Substance</td>\n",
       "      <td>7.3</td>\n",
       "      <td>279000</td>\n",
       "      <td>141.0</td>\n",
       "      <td>Science fiction</td>\n",
       "    </tr>\n",
       "    <tr>\n",
       "      <th>1</th>\n",
       "      <td>Sonic the Hedgehog 3</td>\n",
       "      <td>6.9</td>\n",
       "      <td>52000</td>\n",
       "      <td>110.0</td>\n",
       "      <td>Science fiction</td>\n",
       "    </tr>\n",
       "    <tr>\n",
       "      <th>2</th>\n",
       "      <td>Venom: The Last Dance</td>\n",
       "      <td>6.0</td>\n",
       "      <td>107000</td>\n",
       "      <td>110.0</td>\n",
       "      <td>Science fiction</td>\n",
       "    </tr>\n",
       "    <tr>\n",
       "      <th>3</th>\n",
       "      <td>The Wild Robot</td>\n",
       "      <td>8.2</td>\n",
       "      <td>152000</td>\n",
       "      <td>102.0</td>\n",
       "      <td>Science fiction</td>\n",
       "    </tr>\n",
       "    <tr>\n",
       "      <th>4</th>\n",
       "      <td>Dune: Part Two</td>\n",
       "      <td>8.5</td>\n",
       "      <td>612000</td>\n",
       "      <td>166.0</td>\n",
       "      <td>Science fiction</td>\n",
       "    </tr>\n",
       "    <tr>\n",
       "      <th>...</th>\n",
       "      <td>...</td>\n",
       "      <td>...</td>\n",
       "      <td>...</td>\n",
       "      <td>...</td>\n",
       "      <td>...</td>\n",
       "    </tr>\n",
       "    <tr>\n",
       "      <th>515</th>\n",
       "      <td>Worship</td>\n",
       "      <td>0</td>\n",
       "      <td>0</td>\n",
       "      <td>75.0</td>\n",
       "      <td>Science fiction</td>\n",
       "    </tr>\n",
       "    <tr>\n",
       "      <th>516</th>\n",
       "      <td>Parhelion</td>\n",
       "      <td>0</td>\n",
       "      <td>0</td>\n",
       "      <td>90.0</td>\n",
       "      <td>Science fiction</td>\n",
       "    </tr>\n",
       "    <tr>\n",
       "      <th>517</th>\n",
       "      <td>Plastic</td>\n",
       "      <td>0</td>\n",
       "      <td>0</td>\n",
       "      <td>62.0</td>\n",
       "      <td>Science fiction</td>\n",
       "    </tr>\n",
       "    <tr>\n",
       "      <th>518</th>\n",
       "      <td>Recall 126</td>\n",
       "      <td>0</td>\n",
       "      <td>0</td>\n",
       "      <td>53.0</td>\n",
       "      <td>Science fiction</td>\n",
       "    </tr>\n",
       "    <tr>\n",
       "      <th>519</th>\n",
       "      <td>the time arc</td>\n",
       "      <td>0</td>\n",
       "      <td>0</td>\n",
       "      <td>78.0</td>\n",
       "      <td>Science fiction</td>\n",
       "    </tr>\n",
       "  </tbody>\n",
       "</table>\n",
       "<p>520 rows × 5 columns</p>\n",
       "</div>"
      ],
      "text/plain": [
       "                     Title Rating    Votes  Duration            Genre\n",
       "0            The Substance    7.3   279000     141.0  Science fiction\n",
       "1     Sonic the Hedgehog 3    6.9    52000     110.0  Science fiction\n",
       "2    Venom: The Last Dance    6.0   107000     110.0  Science fiction\n",
       "3           The Wild Robot    8.2   152000     102.0  Science fiction\n",
       "4           Dune: Part Two    8.5   612000     166.0  Science fiction\n",
       "..                     ...    ...      ...       ...              ...\n",
       "515                Worship      0        0      75.0  Science fiction\n",
       "516              Parhelion      0        0      90.0  Science fiction\n",
       "517                Plastic      0        0      62.0  Science fiction\n",
       "518             Recall 126      0        0      53.0  Science fiction\n",
       "519           the time arc      0        0      78.0  Science fiction\n",
       "\n",
       "[520 rows x 5 columns]"
      ]
     },
     "metadata": {},
     "output_type": "display_data"
    }
   ],
   "source": [
    "sci.fillna(0,inplace=True)\n",
    "display(sci)"
   ]
  },
  {
   "cell_type": "code",
   "execution_count": 35,
   "metadata": {},
   "outputs": [
    {
     "name": "stdout",
     "output_type": "stream",
     "text": [
      "<class 'pandas.core.frame.DataFrame'>\n",
      "RangeIndex: 520 entries, 0 to 519\n",
      "Data columns (total 5 columns):\n",
      " #   Column    Non-Null Count  Dtype  \n",
      "---  ------    --------------  -----  \n",
      " 0   Title     520 non-null    object \n",
      " 1   Rating    520 non-null    object \n",
      " 2   Votes     520 non-null    object \n",
      " 3   Duration  520 non-null    float64\n",
      " 4   Genre     520 non-null    object \n",
      "dtypes: float64(1), object(4)\n",
      "memory usage: 20.4+ KB\n"
     ]
    }
   ],
   "source": [
    "sci.info()"
   ]
  },
  {
   "cell_type": "markdown",
   "metadata": {},
   "source": [
    "Changing the datatype"
   ]
  },
  {
   "cell_type": "code",
   "execution_count": 36,
   "metadata": {},
   "outputs": [],
   "source": [
    "sci[\"Title\"] = sci[\"Title\"].astype(str)\n",
    "sci[\"Rating\"] = sci[\"Rating\"].astype(float)\n",
    "sci[\"Votes\"] = sci[\"Votes\"].astype(int)\n",
    "sci[\"Genre\"] = sci[\"Genre\"].astype(str)"
   ]
  },
  {
   "cell_type": "markdown",
   "metadata": {},
   "source": [
    "to csv"
   ]
  },
  {
   "cell_type": "code",
   "execution_count": 37,
   "metadata": {},
   "outputs": [],
   "source": [
    "sci.to_csv(\"imdb_Scifi(C)\",index = False)"
   ]
  },
  {
   "cell_type": "markdown",
   "metadata": {},
   "source": [
    "TO SQL"
   ]
  },
  {
   "cell_type": "markdown",
   "metadata": {},
   "source": [
    "see the number of table in .db"
   ]
  },
  {
   "cell_type": "code",
   "execution_count": 38,
   "metadata": {},
   "outputs": [
    {
     "name": "stdout",
     "output_type": "stream",
     "text": [
      "Tables in the database: [('imdb_adventure(C)',), ('imdb_Fantasy(C)',), ('imdb_biography(C)',), ('imdb_Romance(C)',), ('imdb_Scifi(C)',)]\n"
     ]
    }
   ],
   "source": [
    "import sqlite3\n",
    "\n",
    "conn = sqlite3.connect('imdb_SQL.db')\n",
    "cursor = conn.cursor()\n",
    "\n",
    "cursor.execute(\"SELECT name FROM sqlite_master WHERE type='table';\")\n",
    "tables = cursor.fetchall()\n",
    "\n",
    "print(\"Tables in the database:\", tables)\n",
    "\n",
    "conn.close()"
   ]
  },
  {
   "cell_type": "code",
   "execution_count": 39,
   "metadata": {},
   "outputs": [
    {
     "name": "stdout",
     "output_type": "stream",
     "text": [
      "uploaded\n"
     ]
    }
   ],
   "source": [
    "import sqlite3\n",
    "conn = sqlite3.connect('imdb_SQL.db')\n",
    "cursor = conn.cursor()\n",
    "\n",
    "sci.to_sql('imdb_Scifi(C)', conn, if_exists='replace', index=False)\n",
    "\n",
    "print(\"uploaded\")\n"
   ]
  },
  {
   "cell_type": "code",
   "execution_count": 40,
   "metadata": {},
   "outputs": [],
   "source": [
    "conn.commit\n",
    "conn.close()"
   ]
  }
 ],
 "metadata": {
  "kernelspec": {
   "display_name": "imdb_venv",
   "language": "python",
   "name": "python3"
  },
  "language_info": {
   "codemirror_mode": {
    "name": "ipython",
    "version": 3
   },
   "file_extension": ".py",
   "mimetype": "text/x-python",
   "name": "python",
   "nbconvert_exporter": "python",
   "pygments_lexer": "ipython3",
   "version": "3.12.8"
  }
 },
 "nbformat": 4,
 "nbformat_minor": 2
}
