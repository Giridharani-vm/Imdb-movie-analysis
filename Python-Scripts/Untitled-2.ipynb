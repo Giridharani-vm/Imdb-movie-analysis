{
 "cells": [
  {
   "cell_type": "markdown",
   "metadata": {},
   "source": [
    "#File Opening"
   ]
  },
  {
   "cell_type": "code",
   "execution_count": 1,
   "metadata": {},
   "outputs": [
    {
     "name": "stdout",
     "output_type": "stream",
     "text": [
      "<class 'pandas.core.frame.DataFrame'>\n",
      "RangeIndex: 461 entries, 0 to 460\n",
      "Data columns (total 5 columns):\n",
      " #   Column    Non-Null Count  Dtype \n",
      "---  ------    --------------  ----- \n",
      " 0   Title     461 non-null    object\n",
      " 1   Rating    461 non-null    object\n",
      " 2   Votes     461 non-null    object\n",
      " 3   Duration  461 non-null    object\n",
      " 4   Genre     461 non-null    object\n",
      "dtypes: object(5)\n",
      "memory usage: 18.1+ KB\n",
      "None\n"
     ]
    },
    {
     "data": {
      "text/plain": [
       "(461, 5)"
      ]
     },
     "execution_count": 1,
     "metadata": {},
     "output_type": "execute_result"
    }
   ],
   "source": [
    "import pandas as pd\n",
    "bio = pd.read_csv(r\"C:\\Users\\123\\Music\\imdb_biography.csv\")\n",
    "print(bio.info())\n",
    "bio.shape\n"
   ]
  },
  {
   "cell_type": "markdown",
   "metadata": {},
   "source": [
    "To find number of not available"
   ]
  },
  {
   "cell_type": "code",
   "execution_count": 35,
   "metadata": {},
   "outputs": [
    {
     "name": "stdout",
     "output_type": "stream",
     "text": [
      "Title         0\n",
      "Rating      179\n",
      "Votes       179\n",
      "Duration     82\n",
      "Genre         0\n",
      "dtype: int64\n"
     ]
    }
   ],
   "source": [
    "print(bio.apply(lambda col: col.str.contains('Not Available', case=False, na=False).sum()))"
   ]
  },
  {
   "cell_type": "markdown",
   "metadata": {},
   "source": [
    "Find and deleting the common NaN types"
   ]
  },
  {
   "cell_type": "code",
   "execution_count": 2,
   "metadata": {},
   "outputs": [
    {
     "data": {
      "text/plain": [
       "60"
      ]
     },
     "execution_count": 2,
     "metadata": {},
     "output_type": "execute_result"
    }
   ],
   "source": [
    "bio[(bio[\"Votes\"]==\"Not Available\") & (bio[\"Duration\"]==\"Not Available\")].shape[0]"
   ]
  },
  {
   "cell_type": "code",
   "execution_count": 3,
   "metadata": {},
   "outputs": [
    {
     "data": {
      "text/plain": [
       "401"
      ]
     },
     "execution_count": 3,
     "metadata": {},
     "output_type": "execute_result"
    }
   ],
   "source": [
    "bio.drop(bio[(bio[\"Votes\"]==\"Not Available\") & (bio[\"Duration\"]==\"Not Available\")].index,inplace=True)\n",
    "bio.shape[0]"
   ]
  },
  {
   "cell_type": "code",
   "execution_count": 4,
   "metadata": {},
   "outputs": [
    {
     "name": "stdout",
     "output_type": "stream",
     "text": [
      "401\n"
     ]
    }
   ],
   "source": [
    "bio = bio.reset_index(drop = True)\n",
    "print(len(bio))"
   ]
  },
  {
   "cell_type": "markdown",
   "metadata": {},
   "source": [
    "Not availabe to 0 value"
   ]
  },
  {
   "cell_type": "code",
   "execution_count": 5,
   "metadata": {},
   "outputs": [],
   "source": [
    "bio['Rating'] = bio['Rating'].str.replace('Not Available','0',regex = False)\n",
    "bio['Votes'] = bio['Votes'].str.replace('Not Available','0',regex = False)\n",
    "bio['Duration'] = bio['Duration'].str.replace('Not Available','0',regex = False)"
   ]
  },
  {
   "cell_type": "code",
   "execution_count": 6,
   "metadata": {},
   "outputs": [
    {
     "data": {
      "text/plain": [
       "401"
      ]
     },
     "execution_count": 6,
     "metadata": {},
     "output_type": "execute_result"
    }
   ],
   "source": [
    "bio.shape[0]"
   ]
  },
  {
   "cell_type": "markdown",
   "metadata": {},
   "source": [
    "Cleaning - Votes (str, decimal assignment)"
   ]
  },
  {
   "cell_type": "code",
   "execution_count": 7,
   "metadata": {},
   "outputs": [],
   "source": [
    "bio['Votes'] = bio['Votes'].astype(str).str.replace('(','',regex = False)\n",
    "bio['Votes'] = bio['Votes'].astype(str).str.replace(')','',regex = False)\n",
    "bio['Votes'] = bio['Votes'].astype(str).str.replace('K','000',regex = False)"
   ]
  },
  {
   "cell_type": "code",
   "execution_count": 8,
   "metadata": {},
   "outputs": [
    {
     "name": "stdout",
     "output_type": "stream",
     "text": [
      "                                                 Title Rating   Votes  \\\n",
      "0                                1. A Complete Unknown    7.4   59000   \n",
      "1                                    2. I'm Still Here    8.4   94000   \n",
      "2                                 3. Queen of the Ring    7.0     777   \n",
      "3                                    4. The Apprentice    7.1   50000   \n",
      "4                                      5. William Tell    5.8    1700   \n",
      "..                                                 ...    ...     ...   \n",
      "396        456. Mera naam ullhas hai part 2 (bachelor)      0       0   \n",
      "397             457. The Life and Death of Orson Greer      0       0   \n",
      "398                               459. Maçãs no Escuro      0       0   \n",
      "399      460. Anssi Mänttäri - Suomielokuvan kummisetä      0       0   \n",
      "400  461. Jaime Isidoro: divulgador, colecionador, ...      0       0   \n",
      "\n",
      "      Duration      Genre  \n",
      "0       2h 21m  Biography  \n",
      "1       2h 17m  Biography  \n",
      "2       2h 20m  Biography  \n",
      "3        2h 2m  Biography  \n",
      "4       2h 13m  Biography  \n",
      "..         ...        ...  \n",
      "396         1h  Biography  \n",
      "397  Not Rated  Biography  \n",
      "398     1h 48m  Biography  \n",
      "399     1h 53m  Biography  \n",
      "400     1h 20m  Biography  \n",
      "\n",
      "[401 rows x 5 columns]\n"
     ]
    }
   ],
   "source": [
    "def shift_decimal(x):\n",
    "    if '.' in x:\n",
    "        return str(float(x) * 1000).rstrip('0').rstrip('.')  # Remove trailing zeros\n",
    "    return x\n",
    "\n",
    "# Apply the function\n",
    "bio['Votes'] = bio['Votes'].astype(str).apply(shift_decimal)\n",
    "\n",
    "print(bio)\n"
   ]
  },
  {
   "cell_type": "markdown",
   "metadata": {},
   "source": [
    "Duration to minutes"
   ]
  },
  {
   "cell_type": "code",
   "execution_count": 9,
   "metadata": {},
   "outputs": [
    {
     "name": "stdout",
     "output_type": "stream",
     "text": [
      "0      141.0\n",
      "1      137.0\n",
      "2      140.0\n",
      "3      122.0\n",
      "4      133.0\n",
      "       ...  \n",
      "396     60.0\n",
      "397      0.0\n",
      "398    108.0\n",
      "399    113.0\n",
      "400     80.0\n",
      "Name: Duration, Length: 401, dtype: float64\n"
     ]
    },
    {
     "name": "stderr",
     "output_type": "stream",
     "text": [
      "C:\\Users\\123\\AppData\\Local\\Temp\\ipykernel_10988\\786350388.py:3: FutureWarning: A value is trying to be set on a copy of a DataFrame or Series through chained assignment using an inplace method.\n",
      "The behavior will change in pandas 3.0. This inplace method will never work because the intermediate object on which we are setting values always behaves as a copy.\n",
      "\n",
      "For example, when doing 'df[col].method(value, inplace=True)', try using 'df.method({col: value}, inplace=True)' or df[col] = df[col].method(value) instead, to perform the operation inplace on the original object.\n",
      "\n",
      "\n",
      "  bio['Duration'].fillna(0, inplace=True)\n"
     ]
    }
   ],
   "source": [
    "bio['Duration'] = bio['Duration'].astype(str).fillna('0h 0m')\n",
    "bio['Duration'] = pd.to_timedelta(bio['Duration'].str.replace('h', ' hours ').str.replace('m', ' minutes'), errors='coerce').dt.total_seconds() / 60\n",
    "bio['Duration'].fillna(0, inplace=True)\n",
    "print(bio['Duration'])"
   ]
  },
  {
   "cell_type": "code",
   "execution_count": 10,
   "metadata": {},
   "outputs": [
    {
     "name": "stdout",
     "output_type": "stream",
     "text": [
      "<class 'pandas.core.series.Series'>\n",
      "RangeIndex: 401 entries, 0 to 400\n",
      "Series name: Duration\n",
      "Non-Null Count  Dtype  \n",
      "--------------  -----  \n",
      "401 non-null    float64\n",
      "dtypes: float64(1)\n",
      "memory usage: 3.3 KB\n"
     ]
    }
   ],
   "source": [
    "bio[\"Duration\"].info()"
   ]
  },
  {
   "cell_type": "markdown",
   "metadata": {},
   "source": [
    "Removing serial number in title"
   ]
  },
  {
   "cell_type": "code",
   "execution_count": 11,
   "metadata": {},
   "outputs": [],
   "source": [
    "bio['Title'] = bio['Title'].str.replace(r'^\\d+\\.\\s*', '', regex=True)"
   ]
  },
  {
   "cell_type": "code",
   "execution_count": 12,
   "metadata": {},
   "outputs": [
    {
     "data": {
      "text/plain": [
       "0                                    A Complete Unknown\n",
       "1                                        I'm Still Here\n",
       "2                                     Queen of the Ring\n",
       "3                                        The Apprentice\n",
       "4                                          William Tell\n",
       "                             ...                       \n",
       "396              Mera naam ullhas hai part 2 (bachelor)\n",
       "397                   The Life and Death of Orson Greer\n",
       "398                                     Maçãs no Escuro\n",
       "399            Anssi Mänttäri - Suomielokuvan kummisetä\n",
       "400    Jaime Isidoro: divulgador, colecionador, artista\n",
       "Name: Title, Length: 401, dtype: object"
      ]
     },
     "metadata": {},
     "output_type": "display_data"
    }
   ],
   "source": [
    "display(bio[\"Title\"])"
   ]
  },
  {
   "cell_type": "markdown",
   "metadata": {},
   "source": [
    "\n",
    "Converting NaN type to zero"
   ]
  },
  {
   "cell_type": "code",
   "execution_count": 13,
   "metadata": {},
   "outputs": [
    {
     "data": {
      "text/html": [
       "<div>\n",
       "<style scoped>\n",
       "    .dataframe tbody tr th:only-of-type {\n",
       "        vertical-align: middle;\n",
       "    }\n",
       "\n",
       "    .dataframe tbody tr th {\n",
       "        vertical-align: top;\n",
       "    }\n",
       "\n",
       "    .dataframe thead th {\n",
       "        text-align: right;\n",
       "    }\n",
       "</style>\n",
       "<table border=\"1\" class=\"dataframe\">\n",
       "  <thead>\n",
       "    <tr style=\"text-align: right;\">\n",
       "      <th></th>\n",
       "      <th>Title</th>\n",
       "      <th>Rating</th>\n",
       "      <th>Votes</th>\n",
       "      <th>Duration</th>\n",
       "      <th>Genre</th>\n",
       "    </tr>\n",
       "  </thead>\n",
       "  <tbody>\n",
       "    <tr>\n",
       "      <th>0</th>\n",
       "      <td>A Complete Unknown</td>\n",
       "      <td>7.4</td>\n",
       "      <td>59000</td>\n",
       "      <td>141.0</td>\n",
       "      <td>Biography</td>\n",
       "    </tr>\n",
       "    <tr>\n",
       "      <th>1</th>\n",
       "      <td>I'm Still Here</td>\n",
       "      <td>8.4</td>\n",
       "      <td>94000</td>\n",
       "      <td>137.0</td>\n",
       "      <td>Biography</td>\n",
       "    </tr>\n",
       "    <tr>\n",
       "      <th>2</th>\n",
       "      <td>Queen of the Ring</td>\n",
       "      <td>7.0</td>\n",
       "      <td>777</td>\n",
       "      <td>140.0</td>\n",
       "      <td>Biography</td>\n",
       "    </tr>\n",
       "    <tr>\n",
       "      <th>3</th>\n",
       "      <td>The Apprentice</td>\n",
       "      <td>7.1</td>\n",
       "      <td>50000</td>\n",
       "      <td>122.0</td>\n",
       "      <td>Biography</td>\n",
       "    </tr>\n",
       "    <tr>\n",
       "      <th>4</th>\n",
       "      <td>William Tell</td>\n",
       "      <td>5.8</td>\n",
       "      <td>1700</td>\n",
       "      <td>133.0</td>\n",
       "      <td>Biography</td>\n",
       "    </tr>\n",
       "    <tr>\n",
       "      <th>...</th>\n",
       "      <td>...</td>\n",
       "      <td>...</td>\n",
       "      <td>...</td>\n",
       "      <td>...</td>\n",
       "      <td>...</td>\n",
       "    </tr>\n",
       "    <tr>\n",
       "      <th>396</th>\n",
       "      <td>Mera naam ullhas hai part 2 (bachelor)</td>\n",
       "      <td>0</td>\n",
       "      <td>0</td>\n",
       "      <td>60.0</td>\n",
       "      <td>Biography</td>\n",
       "    </tr>\n",
       "    <tr>\n",
       "      <th>397</th>\n",
       "      <td>The Life and Death of Orson Greer</td>\n",
       "      <td>0</td>\n",
       "      <td>0</td>\n",
       "      <td>0.0</td>\n",
       "      <td>Biography</td>\n",
       "    </tr>\n",
       "    <tr>\n",
       "      <th>398</th>\n",
       "      <td>Maçãs no Escuro</td>\n",
       "      <td>0</td>\n",
       "      <td>0</td>\n",
       "      <td>108.0</td>\n",
       "      <td>Biography</td>\n",
       "    </tr>\n",
       "    <tr>\n",
       "      <th>399</th>\n",
       "      <td>Anssi Mänttäri - Suomielokuvan kummisetä</td>\n",
       "      <td>0</td>\n",
       "      <td>0</td>\n",
       "      <td>113.0</td>\n",
       "      <td>Biography</td>\n",
       "    </tr>\n",
       "    <tr>\n",
       "      <th>400</th>\n",
       "      <td>Jaime Isidoro: divulgador, colecionador, artista</td>\n",
       "      <td>0</td>\n",
       "      <td>0</td>\n",
       "      <td>80.0</td>\n",
       "      <td>Biography</td>\n",
       "    </tr>\n",
       "  </tbody>\n",
       "</table>\n",
       "<p>401 rows × 5 columns</p>\n",
       "</div>"
      ],
      "text/plain": [
       "                                                Title Rating   Votes  \\\n",
       "0                                  A Complete Unknown    7.4   59000   \n",
       "1                                      I'm Still Here    8.4   94000   \n",
       "2                                   Queen of the Ring    7.0     777   \n",
       "3                                      The Apprentice    7.1   50000   \n",
       "4                                        William Tell    5.8    1700   \n",
       "..                                                ...    ...     ...   \n",
       "396            Mera naam ullhas hai part 2 (bachelor)      0       0   \n",
       "397                 The Life and Death of Orson Greer      0       0   \n",
       "398                                   Maçãs no Escuro      0       0   \n",
       "399          Anssi Mänttäri - Suomielokuvan kummisetä      0       0   \n",
       "400  Jaime Isidoro: divulgador, colecionador, artista      0       0   \n",
       "\n",
       "     Duration      Genre  \n",
       "0       141.0  Biography  \n",
       "1       137.0  Biography  \n",
       "2       140.0  Biography  \n",
       "3       122.0  Biography  \n",
       "4       133.0  Biography  \n",
       "..        ...        ...  \n",
       "396      60.0  Biography  \n",
       "397       0.0  Biography  \n",
       "398     108.0  Biography  \n",
       "399     113.0  Biography  \n",
       "400      80.0  Biography  \n",
       "\n",
       "[401 rows x 5 columns]"
      ]
     },
     "metadata": {},
     "output_type": "display_data"
    }
   ],
   "source": [
    "bio.fillna(0,inplace=True)\n",
    "display(bio)"
   ]
  },
  {
   "cell_type": "code",
   "execution_count": 14,
   "metadata": {},
   "outputs": [
    {
     "name": "stdout",
     "output_type": "stream",
     "text": [
      "<class 'pandas.core.frame.DataFrame'>\n",
      "RangeIndex: 401 entries, 0 to 400\n",
      "Data columns (total 5 columns):\n",
      " #   Column    Non-Null Count  Dtype  \n",
      "---  ------    --------------  -----  \n",
      " 0   Title     401 non-null    object \n",
      " 1   Rating    401 non-null    object \n",
      " 2   Votes     401 non-null    object \n",
      " 3   Duration  401 non-null    float64\n",
      " 4   Genre     401 non-null    object \n",
      "dtypes: float64(1), object(4)\n",
      "memory usage: 15.8+ KB\n"
     ]
    }
   ],
   "source": [
    "bio.info()"
   ]
  },
  {
   "cell_type": "markdown",
   "metadata": {},
   "source": [
    "Changing the datatype"
   ]
  },
  {
   "cell_type": "code",
   "execution_count": 15,
   "metadata": {},
   "outputs": [],
   "source": [
    "bio[\"Title\"] = bio[\"Title\"].astype(str)\n",
    "bio[\"Rating\"] = bio[\"Rating\"].astype(float)\n",
    "bio[\"Votes\"] = bio[\"Votes\"].astype(int)\n",
    "bio[\"Genre\"] = bio[\"Genre\"].astype(str)"
   ]
  },
  {
   "cell_type": "markdown",
   "metadata": {},
   "source": [
    "to csv"
   ]
  },
  {
   "cell_type": "code",
   "execution_count": 16,
   "metadata": {},
   "outputs": [],
   "source": [
    "bio.to_csv(\"imdb_biography(C)\",index = False)"
   ]
  },
  {
   "cell_type": "markdown",
   "metadata": {},
   "source": [
    "TO SQL"
   ]
  },
  {
   "cell_type": "markdown",
   "metadata": {},
   "source": [
    "see the number of table in .db"
   ]
  },
  {
   "cell_type": "code",
   "execution_count": 17,
   "metadata": {},
   "outputs": [
    {
     "name": "stdout",
     "output_type": "stream",
     "text": [
      "Tables in the database: [('imdb_biography(C)',), ('imdb_adventure(C)',), ('imdb_Fantasy(C)',)]\n"
     ]
    }
   ],
   "source": [
    "import sqlite3\n",
    "\n",
    "conn = sqlite3.connect('imdb_SQL.db')\n",
    "cursor = conn.cursor()\n",
    "\n",
    "cursor.execute(\"SELECT name FROM sqlite_master WHERE type='table';\")\n",
    "tables = cursor.fetchall()\n",
    "\n",
    "print(\"Tables in the database:\", tables)\n",
    "\n",
    "conn.close()"
   ]
  },
  {
   "cell_type": "code",
   "execution_count": 18,
   "metadata": {},
   "outputs": [
    {
     "name": "stdout",
     "output_type": "stream",
     "text": [
      "uploaded\n"
     ]
    }
   ],
   "source": [
    "import sqlite3\n",
    "conn = sqlite3.connect('imdb_SQL.db')\n",
    "cursor = conn.cursor()\n",
    "\n",
    "bio.to_sql('imdb_biography(C)', conn, if_exists='replace', index=False)\n",
    "\n",
    "print(\"uploaded\")\n"
   ]
  },
  {
   "cell_type": "code",
   "execution_count": 19,
   "metadata": {},
   "outputs": [],
   "source": [
    "conn.commit\n",
    "conn.close()"
   ]
  }
 ],
 "metadata": {
  "kernelspec": {
   "display_name": "imdb_venv",
   "language": "python",
   "name": "python3"
  },
  "language_info": {
   "codemirror_mode": {
    "name": "ipython",
    "version": 3
   },
   "file_extension": ".py",
   "mimetype": "text/x-python",
   "name": "python",
   "nbconvert_exporter": "python",
   "pygments_lexer": "ipython3",
   "version": "3.12.8"
  }
 },
 "nbformat": 4,
 "nbformat_minor": 2
}
