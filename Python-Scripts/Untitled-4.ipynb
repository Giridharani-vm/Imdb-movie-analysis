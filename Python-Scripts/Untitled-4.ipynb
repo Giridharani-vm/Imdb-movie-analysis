{
 "cells": [
  {
   "cell_type": "markdown",
   "metadata": {},
   "source": [
    "#File Opening"
   ]
  },
  {
   "cell_type": "code",
   "execution_count": 2,
   "metadata": {},
   "outputs": [
    {
     "name": "stdout",
     "output_type": "stream",
     "text": [
      "<class 'pandas.core.frame.DataFrame'>\n",
      "RangeIndex: 1050 entries, 0 to 1049\n",
      "Data columns (total 5 columns):\n",
      " #   Column    Non-Null Count  Dtype \n",
      "---  ------    --------------  ----- \n",
      " 0   Title     1050 non-null   object\n",
      " 1   Rating    1050 non-null   object\n",
      " 2   Votes     1050 non-null   object\n",
      " 3   Duration  1050 non-null   object\n",
      " 4   Genre     1050 non-null   object\n",
      "dtypes: object(5)\n",
      "memory usage: 41.1+ KB\n",
      "None\n"
     ]
    },
    {
     "data": {
      "text/plain": [
       "(1050, 5)"
      ]
     },
     "execution_count": 2,
     "metadata": {},
     "output_type": "execute_result"
    }
   ],
   "source": [
    "import pandas as pd\n",
    "rom = pd.read_csv(r\"C:\\Users\\123\\Music\\imdb_Romance.csv\")\n",
    "print(rom.info())\n",
    "rom.shape\n"
   ]
  },
  {
   "cell_type": "markdown",
   "metadata": {},
   "source": [
    "To find number of not available"
   ]
  },
  {
   "cell_type": "code",
   "execution_count": 3,
   "metadata": {},
   "outputs": [
    {
     "name": "stdout",
     "output_type": "stream",
     "text": [
      "Title         0\n",
      "Rating      291\n",
      "Votes       291\n",
      "Duration    176\n",
      "Genre         0\n",
      "dtype: int64\n"
     ]
    }
   ],
   "source": [
    "print(rom.apply(lambda col: col.str.contains('Not Available', case=False, na=False).sum()))"
   ]
  },
  {
   "cell_type": "markdown",
   "metadata": {},
   "source": [
    "Find and deleting the common NaN types"
   ]
  },
  {
   "cell_type": "code",
   "execution_count": 4,
   "metadata": {},
   "outputs": [
    {
     "data": {
      "text/plain": [
       "99"
      ]
     },
     "execution_count": 4,
     "metadata": {},
     "output_type": "execute_result"
    }
   ],
   "source": [
    "rom[(rom[\"Votes\"]==\"Not Available\") & (rom[\"Duration\"]==\"Not Available\")].shape[0]"
   ]
  },
  {
   "cell_type": "code",
   "execution_count": 5,
   "metadata": {},
   "outputs": [
    {
     "data": {
      "text/plain": [
       "951"
      ]
     },
     "execution_count": 5,
     "metadata": {},
     "output_type": "execute_result"
    }
   ],
   "source": [
    "rom.drop(rom[(rom[\"Votes\"]==\"Not Available\") & (rom[\"Duration\"]==\"Not Available\")].index,inplace=True)\n",
    "rom.shape[0]"
   ]
  },
  {
   "cell_type": "code",
   "execution_count": 6,
   "metadata": {},
   "outputs": [
    {
     "name": "stdout",
     "output_type": "stream",
     "text": [
      "951\n"
     ]
    }
   ],
   "source": [
    "rom = rom.reset_index(drop = True)\n",
    "print(len(rom))"
   ]
  },
  {
   "cell_type": "markdown",
   "metadata": {},
   "source": [
    "Not availabe to 0 value"
   ]
  },
  {
   "cell_type": "code",
   "execution_count": 7,
   "metadata": {},
   "outputs": [],
   "source": [
    "rom['Rating'] = rom['Rating'].str.replace('Not Available','0',regex = False)\n",
    "rom['Votes'] = rom['Votes'].str.replace('Not Available','0',regex = False)\n",
    "rom['Duration'] = rom['Duration'].str.replace('Not Available','0',regex = False)"
   ]
  },
  {
   "cell_type": "code",
   "execution_count": 8,
   "metadata": {},
   "outputs": [
    {
     "data": {
      "text/plain": [
       "951"
      ]
     },
     "execution_count": 8,
     "metadata": {},
     "output_type": "execute_result"
    }
   ],
   "source": [
    "rom.shape[0]"
   ]
  },
  {
   "cell_type": "markdown",
   "metadata": {},
   "source": [
    "Cleaning - Votes (str, decimal assignment)"
   ]
  },
  {
   "cell_type": "code",
   "execution_count": 9,
   "metadata": {},
   "outputs": [],
   "source": [
    "rom['Votes'] = rom['Votes'].astype(str).str.replace('(','',regex = False)\n",
    "rom['Votes'] = rom['Votes'].astype(str).str.replace(')','',regex = False)\n",
    "rom['Votes'] = rom['Votes'].astype(str).str.replace('K','000',regex = False)"
   ]
  },
  {
   "cell_type": "code",
   "execution_count": 10,
   "metadata": {},
   "outputs": [
    {
     "name": "stdout",
     "output_type": "stream",
     "text": [
      "                     Title Rating    Votes Duration    Genre\n",
      "0                 1. Anora    7.6   150000   2h 19m  Romance\n",
      "1                2. Wicked    7.5   141000   2h 40m  Romance\n",
      "2              3. Babygirl    6.0    47000   1h 54m  Romance\n",
      "3       4. It Ends with Us    6.4    81000   2h 10m  Romance\n",
      "4       5. We Live in Time    7.0    48000   1h 48m  Romance\n",
      "..                     ...    ...      ...      ...      ...\n",
      "946  1043. A Ride for Love      0        0   1h 33m  Romance\n",
      "947            1044. Extra    7.0       12      28m  Romance\n",
      "948      1045. Mr. Goodman      0        0   1h 50m  Romance\n",
      "949     1047. Unusual Love      0        0   1h 39m  Romance\n",
      "950    1048. Second Chance      0        0       1h  Romance\n",
      "\n",
      "[951 rows x 5 columns]\n"
     ]
    }
   ],
   "source": [
    "def shift_decimal(x):\n",
    "    if '.' in x:\n",
    "        return str(float(x) * 1000).rstrip('0').rstrip('.')  # Remove trailing zeros\n",
    "    return x\n",
    "\n",
    "# Apply the function\n",
    "rom['Votes'] = rom['Votes'].astype(str).apply(shift_decimal)\n",
    "\n",
    "print(rom)\n"
   ]
  },
  {
   "cell_type": "markdown",
   "metadata": {},
   "source": [
    "Duration to minutes"
   ]
  },
  {
   "cell_type": "code",
   "execution_count": 11,
   "metadata": {},
   "outputs": [
    {
     "name": "stdout",
     "output_type": "stream",
     "text": [
      "0      139.0\n",
      "1      160.0\n",
      "2      114.0\n",
      "3      130.0\n",
      "4      108.0\n",
      "       ...  \n",
      "946     93.0\n",
      "947     28.0\n",
      "948    110.0\n",
      "949     99.0\n",
      "950     60.0\n",
      "Name: Duration, Length: 951, dtype: float64\n"
     ]
    },
    {
     "name": "stderr",
     "output_type": "stream",
     "text": [
      "C:\\Users\\123\\AppData\\Local\\Temp\\ipykernel_6520\\534755201.py:3: FutureWarning: A value is trying to be set on a copy of a DataFrame or Series through chained assignment using an inplace method.\n",
      "The behavior will change in pandas 3.0. This inplace method will never work because the intermediate object on which we are setting values always behaves as a copy.\n",
      "\n",
      "For example, when doing 'df[col].method(value, inplace=True)', try using 'df.method({col: value}, inplace=True)' or df[col] = df[col].method(value) instead, to perform the operation inplace on the original object.\n",
      "\n",
      "\n",
      "  rom['Duration'].fillna(0, inplace=True)\n"
     ]
    }
   ],
   "source": [
    "rom['Duration'] = rom['Duration'].astype(str).fillna('0h 0m')\n",
    "rom['Duration'] = pd.to_timedelta(rom['Duration'].str.replace('h', ' hours ').str.replace('m', ' minutes'), errors='coerce').dt.total_seconds() / 60\n",
    "rom['Duration'].fillna(0, inplace=True)\n",
    "print(rom['Duration'])"
   ]
  },
  {
   "cell_type": "code",
   "execution_count": 12,
   "metadata": {},
   "outputs": [
    {
     "name": "stdout",
     "output_type": "stream",
     "text": [
      "<class 'pandas.core.series.Series'>\n",
      "RangeIndex: 951 entries, 0 to 950\n",
      "Series name: Duration\n",
      "Non-Null Count  Dtype  \n",
      "--------------  -----  \n",
      "951 non-null    float64\n",
      "dtypes: float64(1)\n",
      "memory usage: 7.6 KB\n"
     ]
    }
   ],
   "source": [
    "rom[\"Duration\"].info()"
   ]
  },
  {
   "cell_type": "markdown",
   "metadata": {},
   "source": [
    "Removing serial number in title"
   ]
  },
  {
   "cell_type": "code",
   "execution_count": 13,
   "metadata": {},
   "outputs": [],
   "source": [
    "rom['Title'] = rom['Title'].str.replace(r'^\\d+\\.\\s*', '', regex=True)"
   ]
  },
  {
   "cell_type": "code",
   "execution_count": 14,
   "metadata": {},
   "outputs": [
    {
     "data": {
      "text/plain": [
       "0                Anora\n",
       "1               Wicked\n",
       "2             Babygirl\n",
       "3      It Ends with Us\n",
       "4      We Live in Time\n",
       "            ...       \n",
       "946    A Ride for Love\n",
       "947              Extra\n",
       "948        Mr. Goodman\n",
       "949       Unusual Love\n",
       "950      Second Chance\n",
       "Name: Title, Length: 951, dtype: object"
      ]
     },
     "metadata": {},
     "output_type": "display_data"
    }
   ],
   "source": [
    "display(rom[\"Title\"])"
   ]
  },
  {
   "cell_type": "markdown",
   "metadata": {},
   "source": [
    "\n",
    "Converting NaN type to zero"
   ]
  },
  {
   "cell_type": "code",
   "execution_count": 15,
   "metadata": {},
   "outputs": [
    {
     "data": {
      "text/html": [
       "<div>\n",
       "<style scoped>\n",
       "    .dataframe tbody tr th:only-of-type {\n",
       "        vertical-align: middle;\n",
       "    }\n",
       "\n",
       "    .dataframe tbody tr th {\n",
       "        vertical-align: top;\n",
       "    }\n",
       "\n",
       "    .dataframe thead th {\n",
       "        text-align: right;\n",
       "    }\n",
       "</style>\n",
       "<table border=\"1\" class=\"dataframe\">\n",
       "  <thead>\n",
       "    <tr style=\"text-align: right;\">\n",
       "      <th></th>\n",
       "      <th>Title</th>\n",
       "      <th>Rating</th>\n",
       "      <th>Votes</th>\n",
       "      <th>Duration</th>\n",
       "      <th>Genre</th>\n",
       "    </tr>\n",
       "  </thead>\n",
       "  <tbody>\n",
       "    <tr>\n",
       "      <th>0</th>\n",
       "      <td>Anora</td>\n",
       "      <td>7.6</td>\n",
       "      <td>150000</td>\n",
       "      <td>139.0</td>\n",
       "      <td>Romance</td>\n",
       "    </tr>\n",
       "    <tr>\n",
       "      <th>1</th>\n",
       "      <td>Wicked</td>\n",
       "      <td>7.5</td>\n",
       "      <td>141000</td>\n",
       "      <td>160.0</td>\n",
       "      <td>Romance</td>\n",
       "    </tr>\n",
       "    <tr>\n",
       "      <th>2</th>\n",
       "      <td>Babygirl</td>\n",
       "      <td>6.0</td>\n",
       "      <td>47000</td>\n",
       "      <td>114.0</td>\n",
       "      <td>Romance</td>\n",
       "    </tr>\n",
       "    <tr>\n",
       "      <th>3</th>\n",
       "      <td>It Ends with Us</td>\n",
       "      <td>6.4</td>\n",
       "      <td>81000</td>\n",
       "      <td>130.0</td>\n",
       "      <td>Romance</td>\n",
       "    </tr>\n",
       "    <tr>\n",
       "      <th>4</th>\n",
       "      <td>We Live in Time</td>\n",
       "      <td>7.0</td>\n",
       "      <td>48000</td>\n",
       "      <td>108.0</td>\n",
       "      <td>Romance</td>\n",
       "    </tr>\n",
       "    <tr>\n",
       "      <th>...</th>\n",
       "      <td>...</td>\n",
       "      <td>...</td>\n",
       "      <td>...</td>\n",
       "      <td>...</td>\n",
       "      <td>...</td>\n",
       "    </tr>\n",
       "    <tr>\n",
       "      <th>946</th>\n",
       "      <td>A Ride for Love</td>\n",
       "      <td>0</td>\n",
       "      <td>0</td>\n",
       "      <td>93.0</td>\n",
       "      <td>Romance</td>\n",
       "    </tr>\n",
       "    <tr>\n",
       "      <th>947</th>\n",
       "      <td>Extra</td>\n",
       "      <td>7.0</td>\n",
       "      <td>12</td>\n",
       "      <td>28.0</td>\n",
       "      <td>Romance</td>\n",
       "    </tr>\n",
       "    <tr>\n",
       "      <th>948</th>\n",
       "      <td>Mr. Goodman</td>\n",
       "      <td>0</td>\n",
       "      <td>0</td>\n",
       "      <td>110.0</td>\n",
       "      <td>Romance</td>\n",
       "    </tr>\n",
       "    <tr>\n",
       "      <th>949</th>\n",
       "      <td>Unusual Love</td>\n",
       "      <td>0</td>\n",
       "      <td>0</td>\n",
       "      <td>99.0</td>\n",
       "      <td>Romance</td>\n",
       "    </tr>\n",
       "    <tr>\n",
       "      <th>950</th>\n",
       "      <td>Second Chance</td>\n",
       "      <td>0</td>\n",
       "      <td>0</td>\n",
       "      <td>60.0</td>\n",
       "      <td>Romance</td>\n",
       "    </tr>\n",
       "  </tbody>\n",
       "</table>\n",
       "<p>951 rows × 5 columns</p>\n",
       "</div>"
      ],
      "text/plain": [
       "               Title Rating    Votes  Duration    Genre\n",
       "0              Anora    7.6   150000     139.0  Romance\n",
       "1             Wicked    7.5   141000     160.0  Romance\n",
       "2           Babygirl    6.0    47000     114.0  Romance\n",
       "3    It Ends with Us    6.4    81000     130.0  Romance\n",
       "4    We Live in Time    7.0    48000     108.0  Romance\n",
       "..               ...    ...      ...       ...      ...\n",
       "946  A Ride for Love      0        0      93.0  Romance\n",
       "947            Extra    7.0       12      28.0  Romance\n",
       "948      Mr. Goodman      0        0     110.0  Romance\n",
       "949     Unusual Love      0        0      99.0  Romance\n",
       "950    Second Chance      0        0      60.0  Romance\n",
       "\n",
       "[951 rows x 5 columns]"
      ]
     },
     "metadata": {},
     "output_type": "display_data"
    }
   ],
   "source": [
    "rom.fillna(0,inplace=True)\n",
    "display(rom)"
   ]
  },
  {
   "cell_type": "code",
   "execution_count": 16,
   "metadata": {},
   "outputs": [
    {
     "name": "stdout",
     "output_type": "stream",
     "text": [
      "<class 'pandas.core.frame.DataFrame'>\n",
      "RangeIndex: 951 entries, 0 to 950\n",
      "Data columns (total 5 columns):\n",
      " #   Column    Non-Null Count  Dtype  \n",
      "---  ------    --------------  -----  \n",
      " 0   Title     951 non-null    object \n",
      " 1   Rating    951 non-null    object \n",
      " 2   Votes     951 non-null    object \n",
      " 3   Duration  951 non-null    float64\n",
      " 4   Genre     951 non-null    object \n",
      "dtypes: float64(1), object(4)\n",
      "memory usage: 37.3+ KB\n"
     ]
    }
   ],
   "source": [
    "rom.info()"
   ]
  },
  {
   "cell_type": "markdown",
   "metadata": {},
   "source": [
    "Changing the datatype"
   ]
  },
  {
   "cell_type": "code",
   "execution_count": 17,
   "metadata": {},
   "outputs": [],
   "source": [
    "rom[\"Title\"] = rom[\"Title\"].astype(str)\n",
    "rom[\"Rating\"] = rom[\"Rating\"].astype(float)\n",
    "rom[\"Votes\"] = rom[\"Votes\"].astype(int)\n",
    "rom[\"Genre\"] = rom[\"Genre\"].astype(str)"
   ]
  },
  {
   "cell_type": "markdown",
   "metadata": {},
   "source": [
    "to csv"
   ]
  },
  {
   "cell_type": "code",
   "execution_count": 21,
   "metadata": {},
   "outputs": [],
   "source": [
    "rom.to_csv(\"imdb_Romance(C)\",index = False)"
   ]
  },
  {
   "cell_type": "markdown",
   "metadata": {},
   "source": [
    "TO SQL"
   ]
  },
  {
   "cell_type": "markdown",
   "metadata": {},
   "source": [
    "see the number of table in .db"
   ]
  },
  {
   "cell_type": "code",
   "execution_count": 24,
   "metadata": {},
   "outputs": [
    {
     "name": "stdout",
     "output_type": "stream",
     "text": [
      "Tables in the database: [('imdb_adventure(C)',), ('imdb_Fantasy(C)',), ('imdb_biography(C)',), ('imdb_Romance(C)',)]\n"
     ]
    }
   ],
   "source": [
    "import sqlite3\n",
    "\n",
    "conn = sqlite3.connect('imdb_SQL.db')\n",
    "cursor = conn.cursor()\n",
    "\n",
    "cursor.execute(\"SELECT name FROM sqlite_master WHERE type='table';\")\n",
    "tables = cursor.fetchall()\n",
    "\n",
    "print(\"Tables in the database:\", tables)\n",
    "\n",
    "conn.close()"
   ]
  },
  {
   "cell_type": "code",
   "execution_count": 23,
   "metadata": {},
   "outputs": [
    {
     "name": "stdout",
     "output_type": "stream",
     "text": [
      "uploaded\n"
     ]
    }
   ],
   "source": [
    "import sqlite3\n",
    "conn = sqlite3.connect('imdb_SQL.db')\n",
    "cursor = conn.cursor()\n",
    "\n",
    "rom.to_sql('imdb_Romance(C)', conn, if_exists='replace', index=False)\n",
    "\n",
    "print(\"uploaded\")\n"
   ]
  },
  {
   "cell_type": "code",
   "execution_count": 56,
   "metadata": {},
   "outputs": [
    {
     "name": "stdout",
     "output_type": "stream",
     "text": [
      "CSV uploaded to SQL successfully!\n"
     ]
    }
   ],
   "source": [
    "# Read the CSV into a DataFrame\n",
    "df = pd.read_csv(r\"C:\\Users\\123\\Music\\imdb_adventure(C).csv\")\n",
    "\n",
    "# Upload the data to SQL\n",
    "df.to_sql('imdb_adventure(C)', conn, if_exists='replace', index=False)\n",
    "\n",
    "print(\"CSV uploaded to SQL successfully!\")"
   ]
  },
  {
   "cell_type": "code",
   "execution_count": 25,
   "metadata": {},
   "outputs": [],
   "source": [
    "conn.commit\n",
    "conn.close()"
   ]
  }
 ],
 "metadata": {
  "kernelspec": {
   "display_name": "imdb_venv",
   "language": "python",
   "name": "python3"
  },
  "language_info": {
   "codemirror_mode": {
    "name": "ipython",
    "version": 3
   },
   "file_extension": ".py",
   "mimetype": "text/x-python",
   "name": "python",
   "nbconvert_exporter": "python",
   "pygments_lexer": "ipython3",
   "version": "3.12.8"
  }
 },
 "nbformat": 4,
 "nbformat_minor": 2
}
